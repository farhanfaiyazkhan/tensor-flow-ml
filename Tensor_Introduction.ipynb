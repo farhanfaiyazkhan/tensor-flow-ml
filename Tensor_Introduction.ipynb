{
  "nbformat": 4,
  "nbformat_minor": 0,
  "metadata": {
    "colab": {
      "provenance": [],
      "gpuType": "T4",
      "authorship_tag": "ABX9TyOSMAqzET7VUJnMdYPDC3r9",
      "include_colab_link": true
    },
    "kernelspec": {
      "name": "python3",
      "display_name": "Python 3"
    },
    "language_info": {
      "name": "python"
    },
    "accelerator": "GPU"
  },
  "cells": [
    {
      "cell_type": "markdown",
      "metadata": {
        "id": "view-in-github",
        "colab_type": "text"
      },
      "source": [
        "<a href=\"https://colab.research.google.com/github/farhanfaiyazkhan/tensor-flow-ml/blob/main/Tensor_Introduction.ipynb\" target=\"_parent\"><img src=\"https://colab.research.google.com/assets/colab-badge.svg\" alt=\"Open In Colab\"/></a>"
      ]
    },
    {
      "cell_type": "markdown",
      "source": [
        "# What is a Tensor?\n",
        " A tensor is a generalization of vectors and matrices to potentially higher dimensions."
      ],
      "metadata": {
        "id": "JCo_hodVgZPU"
      }
    },
    {
      "cell_type": "code",
      "source": [
        "import tensorflow as tf"
      ],
      "metadata": {
        "id": "QYKjOBWFfA0m"
      },
      "execution_count": 9,
      "outputs": []
    },
    {
      "cell_type": "code",
      "execution_count": 10,
      "metadata": {
        "id": "K5PvNBhzeJQM"
      },
      "outputs": [],
      "source": [
        "string_tf = tf.Variable(\"this is a tensor string\", tf.string)\n",
        "int_tf = tf.Variable(23, tf.int16)\n",
        "float_tf = tf.Variable(3.145, tf.float64)"
      ]
    },
    {
      "cell_type": "markdown",
      "source": [
        "# Rank\n",
        "A rank or degree is dimension of a tensor variable."
      ],
      "metadata": {
        "id": "lLIosanPxAUF"
      }
    },
    {
      "cell_type": "code",
      "source": [
        "tf.rank(string_tf)"
      ],
      "metadata": {
        "colab": {
          "base_uri": "https://localhost:8080/"
        },
        "id": "rMElfoJvfAD_",
        "outputId": "b9a49bd8-2d44-4e93-8137-e753777e1360"
      },
      "execution_count": 11,
      "outputs": [
        {
          "output_type": "execute_result",
          "data": {
            "text/plain": [
              "<tf.Tensor: shape=(), dtype=int32, numpy=0>"
            ]
          },
          "metadata": {},
          "execution_count": 11
        }
      ]
    },
    {
      "cell_type": "code",
      "source": [
        "rank1 = tf.Variable([\"hello\", \"hey\", \"hi\"], tf.string)\n",
        "rank2 = tf.Variable([[1, 2, 3], [3, 4, 5], [5, 5, 5]], tf.int16) # matrix"
      ],
      "metadata": {
        "id": "UZxVzlKnfnxW"
      },
      "execution_count": 16,
      "outputs": []
    },
    {
      "cell_type": "code",
      "source": [
        "tf.rank(rank1)\n",
        "tf.rank(rank2)"
      ],
      "metadata": {
        "colab": {
          "base_uri": "https://localhost:8080/"
        },
        "id": "bdL4FN02fr77",
        "outputId": "ba73212e-c8e7-4170-fb3a-da4085d4c0ff"
      },
      "execution_count": 17,
      "outputs": [
        {
          "output_type": "execute_result",
          "data": {
            "text/plain": [
              "<tf.Tensor: shape=(), dtype=int32, numpy=1>"
            ]
          },
          "metadata": {},
          "execution_count": 17
        }
      ]
    },
    {
      "cell_type": "markdown",
      "source": [
        "# Shape\n",
        "Shape is how many elements each dimension contains."
      ],
      "metadata": {
        "id": "0SVj8-1NhQIk"
      }
    },
    {
      "cell_type": "code",
      "source": [
        "rank1.shape"
      ],
      "metadata": {
        "colab": {
          "base_uri": "https://localhost:8080/"
        },
        "id": "Fywz6qK2hQos",
        "outputId": "b6bfdf5b-ded5-4655-b05a-1b13af9aa691"
      },
      "execution_count": 38,
      "outputs": [
        {
          "output_type": "execute_result",
          "data": {
            "text/plain": [
              "TensorShape([3])"
            ]
          },
          "metadata": {},
          "execution_count": 38
        }
      ]
    },
    {
      "cell_type": "code",
      "source": [
        "rank2.shape"
      ],
      "metadata": {
        "colab": {
          "base_uri": "https://localhost:8080/"
        },
        "id": "AYfzmOZDhczv",
        "outputId": "3791d8f8-599b-4dfe-eed7-03a0105ebf3f"
      },
      "execution_count": 39,
      "outputs": [
        {
          "output_type": "execute_result",
          "data": {
            "text/plain": [
              "TensorShape([3, 3])"
            ]
          },
          "metadata": {},
          "execution_count": 39
        }
      ]
    },
    {
      "cell_type": "code",
      "source": [
        "string_tf.shape"
      ],
      "metadata": {
        "colab": {
          "base_uri": "https://localhost:8080/"
        },
        "id": "uSn_E2sEoten",
        "outputId": "452f1fa9-c577-48e6-9a39-7afb6e9fb7fe"
      },
      "execution_count": 44,
      "outputs": [
        {
          "output_type": "execute_result",
          "data": {
            "text/plain": [
              "TensorShape([])"
            ]
          },
          "metadata": {},
          "execution_count": 44
        }
      ]
    },
    {
      "cell_type": "code",
      "source": [
        "tensor1 = tf.ones([1, 2, 3])"
      ],
      "metadata": {
        "id": "n8cK1fROhji7"
      },
      "execution_count": 46,
      "outputs": []
    },
    {
      "cell_type": "code",
      "source": [
        "print(tensor1)"
      ],
      "metadata": {
        "colab": {
          "base_uri": "https://localhost:8080/"
        },
        "id": "KdofoblloUxJ",
        "outputId": "1cb1b8d7-1207-4e45-a3b3-d08d4b12f130"
      },
      "execution_count": 47,
      "outputs": [
        {
          "output_type": "stream",
          "name": "stdout",
          "text": [
            "tf.Tensor(\n",
            "[[[1. 1. 1.]\n",
            "  [1. 1. 1.]]], shape=(1, 2, 3), dtype=float32)\n"
          ]
        }
      ]
    },
    {
      "cell_type": "code",
      "source": [
        "tensor2 = tf.reshape(tensor1, [2, 3, 1])"
      ],
      "metadata": {
        "id": "q8dfleXaohjF"
      },
      "execution_count": 48,
      "outputs": []
    },
    {
      "cell_type": "code",
      "source": [
        "print(tensor2)"
      ],
      "metadata": {
        "colab": {
          "base_uri": "https://localhost:8080/"
        },
        "id": "OVFIbvtapSzN",
        "outputId": "a7a7257f-6138-4d9c-fcc7-9244c31ed4fa"
      },
      "execution_count": 49,
      "outputs": [
        {
          "output_type": "stream",
          "name": "stdout",
          "text": [
            "tf.Tensor(\n",
            "[[[1.]\n",
            "  [1.]\n",
            "  [1.]]\n",
            "\n",
            " [[1.]\n",
            "  [1.]\n",
            "  [1.]]], shape=(2, 3, 1), dtype=float32)\n"
          ]
        }
      ]
    },
    {
      "cell_type": "code",
      "source": [
        "tensor3 = tf.reshape(tensor2, [6])"
      ],
      "metadata": {
        "id": "6WQ7WEN5pUpk"
      },
      "execution_count": 51,
      "outputs": []
    },
    {
      "cell_type": "code",
      "source": [
        "print(tensor3)"
      ],
      "metadata": {
        "colab": {
          "base_uri": "https://localhost:8080/"
        },
        "id": "o37wVruepchx",
        "outputId": "c18197cd-48cc-49bd-aa33-e6d8206feab4"
      },
      "execution_count": 52,
      "outputs": [
        {
          "output_type": "stream",
          "name": "stdout",
          "text": [
            "tf.Tensor([1. 1. 1. 1. 1. 1.], shape=(6,), dtype=float32)\n"
          ]
        }
      ]
    },
    {
      "cell_type": "code",
      "source": [
        "tensor4 = tf.reshape(tensor1, [3, -1])"
      ],
      "metadata": {
        "id": "tVgoHxe5pes8"
      },
      "execution_count": 53,
      "outputs": []
    },
    {
      "cell_type": "code",
      "source": [
        "print(tensor4)"
      ],
      "metadata": {
        "colab": {
          "base_uri": "https://localhost:8080/"
        },
        "id": "3roMp1_dqb4K",
        "outputId": "d1e811ea-6d8d-4bfd-d9cb-a686b1898a6f"
      },
      "execution_count": 54,
      "outputs": [
        {
          "output_type": "stream",
          "name": "stdout",
          "text": [
            "tf.Tensor(\n",
            "[[1. 1.]\n",
            " [1. 1.]\n",
            " [1. 1.]], shape=(3, 2), dtype=float32)\n"
          ]
        }
      ]
    },
    {
      "cell_type": "markdown",
      "source": [
        "# Types of Tensors\n",
        "\n",
        "\n",
        "\n",
        "1.   Variable\n",
        "2.   Constant\n",
        "3.   Placeholder\n",
        "4.   SparseTensor\n",
        "\n",
        "Only Variable is mutable out of these."
      ],
      "metadata": {
        "id": "V0xytahssV-l"
      }
    }
  ]
}